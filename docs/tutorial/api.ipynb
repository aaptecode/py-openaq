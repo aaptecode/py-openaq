{
 "cells": [
  {
   "cell_type": "raw",
   "metadata": {
    "deletable": true,
    "editable": true
   },
   "source": [
    ".. _api_tutorial:"
   ]
  },
  {
   "cell_type": "markdown",
   "metadata": {
    "deletable": true,
    "editable": true
   },
   "source": [
    "# Using the OpenAQ API\n",
    "\n",
    "The `openaq` api is an easy-to-use wrapper built around the [OpenAQ Api](https://docs.openaq.org/). Complete API documentation can be found on their website. \n",
    "\n",
    "There are no keys or rate limits (as of March 2017), so working with the API is straight forward. If building a website or app, you may want to just use the python wrapper and interact with the data in json format. However, the rest of this tutorial will assume you are interested in analyzing the data. To get more out of it, I recommend installing `seaborn` for manipulating the asthetics of plots, and working with data as DataFrames using `pandas`. For more information on these, check out the installation section of this documentation.\n",
    "\n",
    "From this point forward, I assume you have at least a basic knowledge of python and matplotlib. This documentation was built using the following versions of all packages:"
   ]
  },
  {
   "cell_type": "code",
   "execution_count": null,
   "metadata": {
    "deletable": true,
    "editable": true
   },
   "outputs": [],
   "source": [
    "import pandas as pd\n",
    "import seaborn as sns\n",
    "import matplotlib as mpl\n",
    "import matplotlib.pyplot as plt\n",
    "import openaq\n",
    "import warnings\n",
    "\n",
    "warnings.simplefilter('ignore')\n",
    "\n",
    "%matplotlib inline\n",
    "\n",
    "# Set major seaborn asthetics\n",
    "sns.set(\"notebook\", style='ticks', font_scale=1.0)\n",
    "\n",
    "print (\"pandas v{}\".format(pd.__version__))\n",
    "print (\"matplotlib v{}\".format(mpl.__version__))\n",
    "print (\"seaborn v{}\".format(sns.__version__))\n",
    "print (\"openaq v{}\".format(openaq.__version__))"
   ]
  },
  {
   "cell_type": "markdown",
   "metadata": {
    "deletable": true,
    "editable": true
   },
   "source": [
    "## OpenAQ API\n",
    "\n",
    "The OpenAQ APi has only eight endpoints that we are interested in:\n",
    "\n",
    "  * cities: provides a simple listing of cities within the platforms\n",
    "  * countries: provides a simple listing of countries within the platform\n",
    "  * fetches: providing data about individual fetch operations that are used to populate data in the platform\n",
    "  * latest: provides the latest value of each available parameter for every location in the system\n",
    "  * locations: provides a list of measurement locations and their meta data\n",
    "  * measurements: provides data about individual measurements\n",
    "  * parameters: provides a simple listing of parameters within the platform\n",
    "  * sources: provides a list of data sources\n",
    "  \n",
    "For detailed documentation about each one in the context of this API wrapper, please check out the API documentation.\n",
    "\n",
    "### Your First Request\n",
    "\n",
    "Real quick, let's go ahead and initiate an instance of the `openaq.OpenAQ` class so we can begin looking at data:"
   ]
  },
  {
   "cell_type": "code",
   "execution_count": null,
   "metadata": {
    "deletable": true,
    "editable": true
   },
   "outputs": [],
   "source": [
    "api = openaq.OpenAQ()"
   ]
  },
  {
   "cell_type": "markdown",
   "metadata": {
    "deletable": true,
    "editable": true
   },
   "source": [
    "### Cities\n",
    "\n",
    "The cities API endpoint lists the cities available within the platform. Results can be subselected by country and paginated to retrieve all results in the database. Let's start by performing a basic query with an increased limit (so we can get all of them) and return it as a DataFrame:"
   ]
  },
  {
   "cell_type": "code",
   "execution_count": null,
   "metadata": {
    "deletable": true,
    "editable": true
   },
   "outputs": [],
   "source": [
    "resp = api.cities(df=True, limit=10000)\n",
    "\n",
    "# display the first 10 rows\n",
    "resp.info()"
   ]
  },
  {
   "cell_type": "markdown",
   "metadata": {
    "deletable": true,
    "editable": true
   },
   "source": [
    "So we retrieved 1400+ entries from the database. We can then take a look at them:"
   ]
  },
  {
   "cell_type": "code",
   "execution_count": null,
   "metadata": {
    "deletable": true,
    "editable": true
   },
   "outputs": [],
   "source": [
    "print (resp.head(10))"
   ]
  },
  {
   "cell_type": "markdown",
   "metadata": {
    "deletable": true,
    "editable": true
   },
   "source": [
    "Let's try to find out which ones are in India:"
   ]
  },
  {
   "cell_type": "code",
   "execution_count": null,
   "metadata": {
    "deletable": true,
    "editable": true
   },
   "outputs": [],
   "source": [
    "print (resp.query(\"country == 'IN'\"))"
   ]
  },
  {
   "cell_type": "markdown",
   "metadata": {
    "deletable": true,
    "editable": true
   },
   "source": [
    "Great! For the rest of the tutorial, we are going to focus on Delhi, India. Why? Well..because there are over 500,000 data points and my personal research is primarily in India. We will also take a look at some $SO_2$ data from Hawai'i later on (another great research locale)."
   ]
  },
  {
   "cell_type": "markdown",
   "metadata": {
    "deletable": true,
    "editable": true
   },
   "source": [
    "## Countries\n",
    "\n",
    "Similar to the `cities` endpoint, the `countries` endpoint lists the countries available. The only parameters we have to play with are the limit and page number. If we want to grab them all, we can just up the limit to the maximum (10000)."
   ]
  },
  {
   "cell_type": "code",
   "execution_count": null,
   "metadata": {
    "deletable": true,
    "editable": true
   },
   "outputs": [],
   "source": [
    "res = api.countries(limit=10000, df=True)\n",
    "\n",
    "print (res)"
   ]
  },
  {
   "cell_type": "markdown",
   "metadata": {
    "deletable": true,
    "editable": true
   },
   "source": [
    "## Fetches\n",
    "\n",
    "If you are interested in getting information pertaining to the individual data fetch operations, go ahead and use this endpoint. Most people won't need to use this. This API method does not allow the `df` parameter; if you would like it to be added, drop me a message.\n",
    "\n",
    "Otherwise, here is how you can access the json-formatted data:"
   ]
  },
  {
   "cell_type": "code",
   "execution_count": null,
   "metadata": {
    "deletable": true,
    "editable": true
   },
   "outputs": [],
   "source": [
    "status, resp = api.fetches(limit=1)\n",
    "\n",
    "# Print out the meta info\n",
    "print (resp['meta'])"
   ]
  },
  {
   "cell_type": "markdown",
   "metadata": {
    "deletable": true,
    "editable": true
   },
   "source": [
    "## Parameters\n",
    "\n",
    "The `parameters` endpoint will provide a listing off all the parameters available:"
   ]
  },
  {
   "cell_type": "code",
   "execution_count": null,
   "metadata": {
    "deletable": true,
    "editable": true
   },
   "outputs": [],
   "source": [
    "res = api.parameters(df=True)\n",
    "\n",
    "print (res)"
   ]
  },
  {
   "cell_type": "markdown",
   "metadata": {
    "deletable": true,
    "editable": true
   },
   "source": [
    "## Sources\n",
    "\n",
    "The `sources` endpoint will provide a list of the sources where the raw data came from."
   ]
  },
  {
   "cell_type": "code",
   "execution_count": null,
   "metadata": {
    "deletable": true,
    "editable": true
   },
   "outputs": [],
   "source": [
    "res = api.sources(df=True)\n",
    "\n",
    "# Print out the first one\n",
    "res.ix[0]"
   ]
  },
  {
   "cell_type": "markdown",
   "metadata": {
    "deletable": true,
    "editable": true
   },
   "source": [
    "## Locations\n",
    "\n",
    "The `locations` endpoint will return the list of measurement locations and their meta data. We can do quite a bit of querying with this one:\n",
    "\n",
    "Let's see what the data looks like:"
   ]
  },
  {
   "cell_type": "code",
   "execution_count": null,
   "metadata": {
    "deletable": true,
    "editable": true
   },
   "outputs": [],
   "source": [
    "res = api.locations(df=True)\n",
    "\n",
    "res.info()"
   ]
  },
  {
   "cell_type": "code",
   "execution_count": null,
   "metadata": {
    "deletable": true,
    "editable": true
   },
   "outputs": [],
   "source": [
    "# print out the first one\n",
    "res.ix[0]"
   ]
  },
  {
   "cell_type": "markdown",
   "metadata": {
    "deletable": true,
    "editable": true
   },
   "source": [
    "What if we just want to grab the locations in Delhi?"
   ]
  },
  {
   "cell_type": "code",
   "execution_count": null,
   "metadata": {
    "deletable": true,
    "editable": true
   },
   "outputs": [],
   "source": [
    "res = api.locations(city='Delhi', df=True)\n",
    "\n",
    "\n",
    "res.ix[0]"
   ]
  },
  {
   "cell_type": "markdown",
   "metadata": {
    "deletable": true,
    "editable": true
   },
   "source": [
    "What about just figuring out which locations in Delhi have $PM_{2.5}$ data?"
   ]
  },
  {
   "cell_type": "code",
   "execution_count": null,
   "metadata": {
    "deletable": true,
    "editable": true
   },
   "outputs": [],
   "source": [
    "res = api.locations(city='Delhi', parameter='pm25', df=True)\n",
    "\n",
    "res.ix[0]"
   ]
  },
  {
   "cell_type": "markdown",
   "metadata": {
    "deletable": true,
    "editable": true
   },
   "source": [
    "## Latest\n",
    "\n",
    "Grab the latest data from a location or locations.\n",
    "\n",
    "What was the most recent $PM_{2.5}$ data in Delhi?"
   ]
  },
  {
   "cell_type": "code",
   "execution_count": null,
   "metadata": {
    "deletable": true,
    "editable": true
   },
   "outputs": [],
   "source": [
    "res = api.latest(city='Delhi', parameter='pm25', df=True)\n",
    "\n",
    "res"
   ]
  },
  {
   "cell_type": "markdown",
   "metadata": {
    "deletable": true,
    "editable": true
   },
   "source": [
    "What about the most recent $SO_2$ data in Hawii?"
   ]
  },
  {
   "cell_type": "code",
   "execution_count": null,
   "metadata": {
    "deletable": true,
    "editable": true
   },
   "outputs": [],
   "source": [
    "res = api.latest(city='Hilo', parameter='so2', df=True)\n",
    "\n",
    "res"
   ]
  },
  {
   "cell_type": "markdown",
   "metadata": {
    "deletable": true,
    "editable": true
   },
   "source": [
    "## Measurements\n",
    "\n",
    "Finally, the endpoint we've all been waiting for! Measurements allows you to grab all of the dataz! You can query on a whole bunhc of parameters listed in the API documentation. Let's dive in:\n",
    "\n",
    "Let's grab the past 10000 data points for $PM_{2.5}$ in Delhi:"
   ]
  },
  {
   "cell_type": "code",
   "execution_count": null,
   "metadata": {
    "deletable": true,
    "editable": true
   },
   "outputs": [],
   "source": [
    "res = api.measurements(city='Delhi', parameter='pm25', limit=10000, df=True)\n",
    "\n",
    "# Print out the statistics on a per-location basiss\n",
    "res.groupby(['location'])['value'].describe()"
   ]
  },
  {
   "cell_type": "markdown",
   "metadata": {
    "deletable": true,
    "editable": true
   },
   "source": [
    "Clearly, we should be doing some serious data cleaning ;) Why don't we go ahead and plot all of these locations on a figure."
   ]
  },
  {
   "cell_type": "code",
   "execution_count": null,
   "metadata": {
    "deletable": true,
    "editable": true
   },
   "outputs": [],
   "source": [
    "fig, ax = plt.subplots(1, figsize=(14, 7))\n",
    "\n",
    "for group, df in res.groupby('location'):\n",
    "    # Query the data to only get positive values and resample to hourly\n",
    "    _df = df.query(\"value >= 0.0\").resample('1h').mean()\n",
    "    \n",
    "    ax.plot(_df.value, label=group)\n",
    "    \n",
    "ax.legend(loc='best')\n",
    "\n",
    "sns.despine(offset=5)\n",
    "\n",
    "plt.show()"
   ]
  },
  {
   "cell_type": "markdown",
   "metadata": {
    "deletable": true,
    "editable": true
   },
   "source": [
    "Don't worry too much about how ugly and uninteresting the plot above is...we'll take care of that in the next tutorial! Let's go ahead and look at the distribution of $PM_{2.5}$ values seen in Delhi by various sensors. This is the same data as above, but viewed in a different way."
   ]
  },
  {
   "cell_type": "code",
   "execution_count": null,
   "metadata": {
    "deletable": true,
    "editable": true
   },
   "outputs": [],
   "source": [
    "fig, ax = plt.subplots(1, figsize=(14,7))\n",
    "\n",
    "ax = sns.boxplot(\n",
    "    x='location', \n",
    "    y='value', \n",
    "    data=res.query(\"value >= 0.0\"), \n",
    "    fliersize=0, \n",
    "    palette='deep',\n",
    "    ax=ax)\n",
    "\n",
    "ax.set_ylim([0, 300])\n",
    "ax.set_ylabel(\"$PM_{2.5}\\;[\\mu gm^{-3}]$\", fontsize=18)\n",
    "ax.set_xlabel(\"\")\n",
    "\n",
    "sns.despine(offset=10)\n",
    "\n",
    "plt.xticks(rotation=90)\n",
    "plt.show()"
   ]
  },
  {
   "cell_type": "markdown",
   "metadata": {
    "deletable": true,
    "editable": true
   },
   "source": [
    "If we remember from above, there was at least one location where many parameters were measured. Let's go ahead and look at that location and see if there is any correlation among parameters!"
   ]
  },
  {
   "cell_type": "code",
   "execution_count": null,
   "metadata": {
    "deletable": true,
    "editable": true
   },
   "outputs": [],
   "source": [
    "res = api.measurements(city='Delhi', location='Anand Vihar', limit=10000, df=True)\n",
    "\n",
    "# Which params do we have?\n",
    "res.parameter.unique()"
   ]
  },
  {
   "cell_type": "code",
   "execution_count": null,
   "metadata": {
    "deletable": true,
    "editable": true
   },
   "outputs": [],
   "source": [
    "df = pd.DataFrame()\n",
    "\n",
    "for u in res.parameter.unique():\n",
    "    _df = res[res['parameter'] == u][['value']]\n",
    "    _df.columns = [u]\n",
    "    \n",
    "    # Merge the dataframes together\n",
    "    df = pd.merge(df, _df, left_index=True, right_index=True, how='outer')\n",
    "\n",
    "# Get rid of rows where not all exist\n",
    "df.dropna(how='any', inplace=True)\n",
    "\n",
    "g = sns.PairGrid(df, diag_sharey=False)\n",
    "\n",
    "g.map_lower(sns.kdeplot, cmap='Blues_d')\n",
    "g.map_upper(plt.scatter)\n",
    "g.map_diag(sns.kdeplot, lw=3)\n",
    "\n",
    "plt.show()"
   ]
  },
  {
   "cell_type": "markdown",
   "metadata": {
    "deletable": true,
    "editable": true
   },
   "source": [
    "For kicks, let's go ahead and look at a timeseries of $SO_2$ data in Hawai'i. Quiz: What do you expect? Did you know that Hawai'i has a huge $SO_2$ problem?"
   ]
  },
  {
   "cell_type": "code",
   "execution_count": null,
   "metadata": {
    "deletable": true,
    "editable": true
   },
   "outputs": [],
   "source": [
    "res = api.measurements(city='Hilo', parameter='so2', limit=10000, df=True)\n",
    "\n",
    "# Print out the statistics on a per-location basiss\n",
    "res.groupby(['location'])['value'].describe()"
   ]
  },
  {
   "cell_type": "code",
   "execution_count": null,
   "metadata": {
    "deletable": true,
    "editable": true
   },
   "outputs": [],
   "source": [
    "fig, ax = plt.subplots(1, figsize=(14, 7))\n",
    "\n",
    "for group, df in res.groupby('location'):\n",
    "    # Query the data to only get positive values and resample to hourly\n",
    "    _df = df.query(\"value >= 0.0\").resample('1h').mean()\n",
    "    \n",
    "    # Multiply the value by 1000 to get from ppm to ppb\n",
    "    ax.plot(_df.value * 1000., label=group)\n",
    "    \n",
    "ax.legend(loc='best')\n",
    "ax.set_ylabel(\"$SO_2 \\; [ppb]$\", fontsize=18)\n",
    "\n",
    "sns.despine(offset=5)\n",
    "\n",
    "plt.show()"
   ]
  },
  {
   "cell_type": "markdown",
   "metadata": {
    "deletable": true,
    "editable": true
   },
   "source": [
    "**NOTE:** These values are for 1h means. The local readings can actually get much, much higher (>5 ppm!) when looking at 1min data."
   ]
  },
  {
   "cell_type": "code",
   "execution_count": null,
   "metadata": {
    "deletable": true,
    "editable": true
   },
   "outputs": [],
   "source": []
  }
 ],
 "metadata": {
  "anaconda-cloud": {},
  "kernelspec": {
   "display_name": "Python 3",
   "language": "python",
   "name": "python3"
  },
  "language_info": {
   "codemirror_mode": {
    "name": "ipython",
    "version": 3
   },
   "file_extension": ".py",
   "mimetype": "text/x-python",
   "name": "python",
   "nbconvert_exporter": "python",
   "pygments_lexer": "ipython3",
   "version": "3.6.0"
  }
 },
 "nbformat": 4,
 "nbformat_minor": 1
}
