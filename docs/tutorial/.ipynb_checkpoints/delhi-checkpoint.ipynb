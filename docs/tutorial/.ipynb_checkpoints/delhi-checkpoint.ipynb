{
 "cells": [
  {
   "cell_type": "raw",
   "metadata": {},
   "source": [
    ".. _delhi_tutorial:"
   ]
  },
  {
   "cell_type": "markdown",
   "metadata": {},
   "source": [
    "# Evaluating Delhi's AQ Using OpenAQ\n",
    "\n",
    "Most of my own atmospheric chemistry research as a PhD student at MIT is based in Delhi. Thus, for this tutorial, we will take a deeper look at the air quality data made available to us through OpenAQ. We will begin by figuring out exactly what data is available to us, and then further examine the most relevant and up-to-date sources. We will take a look at longer trends for some pollutants where possible."
   ]
  },
  {
   "cell_type": "code",
   "execution_count": 1,
   "metadata": {
    "collapsed": true
   },
   "outputs": [],
   "source": [
    "import pandas as pd\n",
    "import seaborn as sns\n",
    "import matplotlib as mpl\n",
    "import matplotlib.pyplot as plt\n",
    "import openaq\n",
    "import warnings\n",
    "\n",
    "warnings.simplefilter('ignore')\n",
    "\n",
    "%matplotlib inline\n",
    "\n",
    "# Set major seaborn asthetics\n",
    "sns.set(\"notebook\", style='ticks', font_scale=1.0)\n",
    "\n",
    "# Increase the quality of inline plots\n",
    "mpl.rcParams['figure.dpi']= 500"
   ]
  },
  {
   "cell_type": "markdown",
   "metadata": {},
   "source": [
    "## Choosing Locations\n",
    "\n",
    "First, let's figure out which locations we should use for our analysis. Let's grab all `locations` from Delhi for all parametrs:"
   ]
  },
  {
   "cell_type": "code",
   "execution_count": 2,
   "metadata": {},
   "outputs": [
    {
     "data": {
      "text/plain": [
       "0                                      Anand Vihar\n",
       "1                        Anand Vihar, Delhi - DPCC\n",
       "2                           Aya Nagar, Delhi - IMD\n",
       "3                     Burari Crossing, Delhi - IMD\n",
       "4                   CRRI Mathura Road, Delhi - IMD\n",
       "5                                      Civil Lines\n",
       "6                     Delhi College Of Engineering\n",
       "7                   Delhi Technological University\n",
       "8     Delhi Technological University, Delhi - CPCB\n",
       "9                                 East Arjun Nagar\n",
       "10                     East Arjun Nagar-Delhi CPCB\n",
       "11                                     IGI Airport\n",
       "12             IGI Airport Terminal-3, Delhi - IMD\n",
       "13                                           IHBAS\n",
       "14                             IHBAS, Delhi - CPCB\n",
       "15                               Income Tax Office\n",
       "16                 Income Tax Office, Delhi - CPCB\n",
       "17                         Lodhi Road, Delhi - IMD\n",
       "18                                     Mandir Marg\n",
       "19                       Mandir Marg, Delhi - DPCC\n",
       "20                                     NSIT Dwarka\n",
       "21                       NSIT Dwarka, Delhi - CPCB\n",
       "22                       North Campus, Delhi - IMD\n",
       "23                                    Punjabi Bagh\n",
       "24                      Punjabi Bagh, Delhi - DPCC\n",
       "25                               Pusa, Delhi - IMD\n",
       "26                                       Pusa2 IMD\n",
       "27                                       R K Puram\n",
       "28                         R K Puram, Delhi - DPCC\n",
       "29                                        RK Puram\n",
       "30                                        Shadipur\n",
       "31                          Shadipur, Delhi - CPCB\n",
       "32                                       Siri Fort\n",
       "33                          Sirifort, Delhi - CPCB\n",
       "34                   US Diplomatic Post: New Delhi\n",
       "Name: location, dtype: object"
      ]
     },
     "execution_count": 2,
     "metadata": {},
     "output_type": "execute_result"
    }
   ],
   "source": [
    "api = openaq.OpenAQ()\n",
    "\n",
    "locations = api.locations(city='Delhi', df=True)\n",
    "\n",
    "locations.location"
   ]
  },
  {
   "cell_type": "markdown",
   "metadata": {},
   "source": [
    "Let's go ahead and filter our results to only grab locations that have been updated in 2017 and have at least 100 data points."
   ]
  },
  {
   "cell_type": "code",
   "execution_count": 3,
   "metadata": {},
   "outputs": [
    {
     "data": {
      "text/plain": [
       "0                                      Anand Vihar\n",
       "1                        Anand Vihar, Delhi - DPCC\n",
       "2                           Aya Nagar, Delhi - IMD\n",
       "3                     Burari Crossing, Delhi - IMD\n",
       "4                   CRRI Mathura Road, Delhi - IMD\n",
       "7                   Delhi Technological University\n",
       "8     Delhi Technological University, Delhi - CPCB\n",
       "10                     East Arjun Nagar-Delhi CPCB\n",
       "12             IGI Airport Terminal-3, Delhi - IMD\n",
       "13                                           IHBAS\n",
       "14                             IHBAS, Delhi - CPCB\n",
       "15                               Income Tax Office\n",
       "16                 Income Tax Office, Delhi - CPCB\n",
       "17                         Lodhi Road, Delhi - IMD\n",
       "18                                     Mandir Marg\n",
       "19                       Mandir Marg, Delhi - DPCC\n",
       "20                                     NSIT Dwarka\n",
       "21                       NSIT Dwarka, Delhi - CPCB\n",
       "22                       North Campus, Delhi - IMD\n",
       "23                                    Punjabi Bagh\n",
       "24                      Punjabi Bagh, Delhi - DPCC\n",
       "25                               Pusa, Delhi - IMD\n",
       "27                                       R K Puram\n",
       "28                         R K Puram, Delhi - DPCC\n",
       "30                                        Shadipur\n",
       "31                          Shadipur, Delhi - CPCB\n",
       "32                                       Siri Fort\n",
       "33                          Sirifort, Delhi - CPCB\n",
       "34                   US Diplomatic Post: New Delhi\n",
       "Name: location, dtype: object"
      ]
     },
     "execution_count": 3,
     "metadata": {},
     "output_type": "execute_result"
    }
   ],
   "source": [
    "locations = locations.query(\"count > 100\").query(\"lastUpdated >= '2017-03-01'\")\n",
    "\n",
    "locations.location"
   ]
  },
  {
   "cell_type": "markdown",
   "metadata": {},
   "source": [
    "Now that we have several up-to-date locations in Delhi we can use, let's see what parameters we have to play with!"
   ]
  },
  {
   "cell_type": "code",
   "execution_count": 4,
   "metadata": {},
   "outputs": [
    {
     "data": {
      "text/plain": [
       "['pm10', 'so2', 'no2', 'pm25', 'o3', 'co']"
      ]
     },
     "execution_count": 4,
     "metadata": {},
     "output_type": "execute_result"
    }
   ],
   "source": [
    "params = []\n",
    "\n",
    "for i, r in locations.iterrows():\n",
    "    [params.append(x) for x in r.parameters if x not in params]\n",
    "    \n",
    "params"
   ]
  },
  {
   "cell_type": "markdown",
   "metadata": {},
   "source": [
    "Great. Now we have a list of parameters that we can evaluate. \n",
    "\n",
    "The rest of this tutorial will be finished in the future when I have away from writing manuscripts (unless someone wants to take a stab at it and send a pull request!)..."
   ]
  }
 ],
 "metadata": {
  "kernelspec": {
   "display_name": "Python 3",
   "language": "python",
   "name": "python3"
  },
  "language_info": {
   "codemirror_mode": {
    "name": "ipython",
    "version": 3
   },
   "file_extension": ".py",
   "mimetype": "text/x-python",
   "name": "python",
   "nbconvert_exporter": "python",
   "pygments_lexer": "ipython3",
   "version": "3.6.3"
  }
 },
 "nbformat": 4,
 "nbformat_minor": 2
}
