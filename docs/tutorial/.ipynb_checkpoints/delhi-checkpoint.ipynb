{
 "cells": [
  {
   "cell_type": "raw",
   "metadata": {},
   "source": [
    ".. _delhi_tutorial:"
   ]
  },
  {
   "cell_type": "code",
   "execution_count": 1,
   "metadata": {
    "collapsed": true
   },
   "outputs": [],
   "source": [
    "import pandas as pd\n",
    "import seaborn as sns\n",
    "import matplotlib as mpl\n",
    "import matplotlib.pyplot as plt\n",
    "import openaq\n",
    "import warnings\n",
    "\n",
    "warnings.simplefilter('ignore')\n",
    "\n",
    "%matplotlib inline\n",
    "\n",
    "# Set major seaborn asthetics\n",
    "sns.set(\"notebook\", style='ticks', font_scale=1.5)"
   ]
  },
  {
   "cell_type": "markdown",
   "metadata": {},
   "source": [
    "# Evaluating Delhi's AQ Using OpenAQ\n",
    "\n",
    "Most of my own atmospheric chemistry research as a PhD student at MIT is based in Delhi. Thus, for this tutorial, we will take a deeper look at the air quality data made available to us through OpenAQ. We will begin by figuring out exactly what data is available to us, and then further examine the most relevant and up-to-date sources. We will take a look at longer trends for some pollutants where possible.\n",
    "\n",
    "## Choosing Locations\n",
    "\n",
    "First, let's figure out which locations we should use for our analysis. Let's grab all `locations` from Delhi for all parametrs:"
   ]
  },
  {
   "cell_type": "code",
   "execution_count": 29,
   "metadata": {
    "collapsed": false
   },
   "outputs": [
    {
     "data": {
      "text/plain": [
       "0                        Anand Vihar\n",
       "1                        Civil Lines\n",
       "2       Delhi College Of Engineering\n",
       "3     Delhi Technological University\n",
       "4                   East Arjun Nagar\n",
       "5        East Arjun Nagar-Delhi CPCB\n",
       "6                        IGI Airport\n",
       "7                              IHBAS\n",
       "8                  Income Tax Office\n",
       "9                        Mandir Marg\n",
       "10                       NSIT Dwarka\n",
       "11                      Punjabi Bagh\n",
       "12                         R K Puram\n",
       "13                          Shadipur\n",
       "14                         Siri Fort\n",
       "15     US Diplomatic Post: New Delhi\n",
       "Name: location, dtype: object"
      ]
     },
     "execution_count": 29,
     "metadata": {},
     "output_type": "execute_result"
    }
   ],
   "source": [
    "api = openaq.OpenAQ()\n",
    "\n",
    "locations = api.locations(city='Delhi', df=True)\n",
    "\n",
    "locations.location"
   ]
  },
  {
   "cell_type": "markdown",
   "metadata": {},
   "source": [
    "Let's go ahead and filter our results to only grab locations that have been updated in 2017 and have at least 100 data points."
   ]
  },
  {
   "cell_type": "code",
   "execution_count": 30,
   "metadata": {
    "collapsed": false
   },
   "outputs": [
    {
     "data": {
      "text/plain": [
       "0                        Anand Vihar\n",
       "3     Delhi Technological University\n",
       "5        East Arjun Nagar-Delhi CPCB\n",
       "7                              IHBAS\n",
       "8                  Income Tax Office\n",
       "9                        Mandir Marg\n",
       "10                       NSIT Dwarka\n",
       "11                      Punjabi Bagh\n",
       "12                         R K Puram\n",
       "13                          Shadipur\n",
       "14                         Siri Fort\n",
       "15     US Diplomatic Post: New Delhi\n",
       "Name: location, dtype: object"
      ]
     },
     "execution_count": 30,
     "metadata": {},
     "output_type": "execute_result"
    }
   ],
   "source": [
    "locations = locations.query(\"count > 100\").query(\"lastUpdated >= '2017-03-01'\")\n",
    "\n",
    "locations.location"
   ]
  },
  {
   "cell_type": "markdown",
   "metadata": {},
   "source": [
    "Now that we have several up-to-date locations in Delhi we can use, let's see what parameters we have to play with!"
   ]
  },
  {
   "cell_type": "code",
   "execution_count": 31,
   "metadata": {
    "collapsed": false
   },
   "outputs": [
    {
     "data": {
      "text/plain": [
       "['co', 'no2', 'o3', 'pm10', 'pm25', 'so2']"
      ]
     },
     "execution_count": 31,
     "metadata": {},
     "output_type": "execute_result"
    }
   ],
   "source": [
    "params = []\n",
    "\n",
    "for i, r in locations.iterrows():\n",
    "    [params.append(x) for x in r.parameters if x not in params]\n",
    "    \n",
    "params"
   ]
  },
  {
   "cell_type": "markdown",
   "metadata": {},
   "source": [
    "Great. Now we have a list of parameters that we can evaluate. "
   ]
  }
 ],
 "metadata": {
  "kernelspec": {
   "display_name": "Python 3",
   "language": "python",
   "name": "python3"
  },
  "language_info": {
   "codemirror_mode": {
    "name": "ipython",
    "version": 3
   },
   "file_extension": ".py",
   "mimetype": "text/x-python",
   "name": "python",
   "nbconvert_exporter": "python",
   "pygments_lexer": "ipython3",
   "version": "3.6.0"
  }
 },
 "nbformat": 4,
 "nbformat_minor": 2
}
