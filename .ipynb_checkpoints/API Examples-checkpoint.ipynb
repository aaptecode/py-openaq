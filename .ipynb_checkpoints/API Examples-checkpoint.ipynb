{
 "cells": [
  {
   "cell_type": "markdown",
   "metadata": {},
   "source": [
    "# py-openaq API Examples\n",
    "\n",
    "Let's look at what we can do (and how we can do it) with the [Open AQ API](https://docs.openaq.org/)\n",
    "\n",
    "I will be using [pandas](http://pandas.pydata.org/) and [seaborn](http://stanford.edu/~mwaskom/software/seaborn/) to demonsrate the capabilities of the API.\n",
    "\n",
    "\n",
    "### Import packages"
   ]
  },
  {
   "cell_type": "code",
   "execution_count": 2,
   "metadata": {
    "collapsed": false
   },
   "outputs": [],
   "source": [
    "import pandas as pd\n",
    "import seaborn as sns\n",
    "import matplotlib.pyplot as plt\n",
    "\n",
    "%matplotlib inline\n",
    "\n",
    "import openaq"
   ]
  },
  {
   "cell_type": "markdown",
   "metadata": {},
   "source": [
    "## Setup\n",
    "\n",
    "First, let's setup an instance of the API. The only argument of interest is `version`; however there is only one version of the API as of now, so the default ('v1') works great."
   ]
  },
  {
   "cell_type": "code",
   "execution_count": 3,
   "metadata": {
    "collapsed": true
   },
   "outputs": [],
   "source": [
    "api = openaq.OpenAQ()"
   ]
  },
  {
   "cell_type": "markdown",
   "metadata": {},
   "source": [
    "## Response\n",
    "\n",
    "Now is a good time to take a look at the structure of a response. \n",
    "\n",
    "Each call returns a tuple containing the status-code and the response. Any GET query that is successful should return a 200 response status code. The response will contain a dictionary of dictionaries, the first of which contains `meta` information and the second of which contains `results`.\n",
    "\n",
    "Demonstrated using the `cities` method"
   ]
  },
  {
   "cell_type": "code",
   "execution_count": 4,
   "metadata": {
    "collapsed": true
   },
   "outputs": [],
   "source": [
    "# Get a list of all cities\n",
    "status, resp = api.cities()"
   ]
  },
  {
   "cell_type": "markdown",
   "metadata": {},
   "source": [
    "### `meta` response"
   ]
  },
  {
   "cell_type": "code",
   "execution_count": 5,
   "metadata": {
    "collapsed": false
   },
   "outputs": [
    {
     "name": "stdout",
     "output_type": "stream",
     "text": [
      "{'name': 'openaq-api', 'license': 'CC BY 4.0', 'website': 'https://docs.openaq.org/'}\n"
     ]
    }
   ],
   "source": [
    "print (resp['meta'])"
   ]
  },
  {
   "cell_type": "markdown",
   "metadata": {},
   "source": [
    "### `results` response"
   ]
  },
  {
   "cell_type": "code",
   "execution_count": 6,
   "metadata": {
    "collapsed": false
   },
   "outputs": [
    {
     "name": "stdout",
     "output_type": "stream",
     "text": [
      "[{'city': 'Amsterdam', 'country': 'NL', 'count': 66733, 'locations': 14}, {'city': 'Andacollo', 'country': 'CL', 'count': 1754, 'locations': 1}, {'city': 'Antofagasta', 'country': 'CL', 'count': 3230, 'locations': 1}]\n"
     ]
    }
   ],
   "source": [
    "# print the first three responses\n",
    "print (resp['results'][:3])"
   ]
  },
  {
   "cell_type": "markdown",
   "metadata": {},
   "source": [
    "## Pandas Example\n",
    "\n",
    "I will be using pandas to convert all dictionaries to DataFrames since they are perfect for everything. The easiest way to go from a dictionary of dictionaries (the return format) to a DataFrame is:\n"
   ]
  },
  {
   "cell_type": "code",
   "execution_count": 7,
   "metadata": {
    "collapsed": false
   },
   "outputs": [
    {
     "data": {
      "text/html": [
       "<div>\n",
       "<table border=\"1\" class=\"dataframe\">\n",
       "  <thead>\n",
       "    <tr style=\"text-align: right;\">\n",
       "      <th></th>\n",
       "      <th>city</th>\n",
       "      <th>count</th>\n",
       "      <th>country</th>\n",
       "      <th>locations</th>\n",
       "    </tr>\n",
       "  </thead>\n",
       "  <tbody>\n",
       "    <tr>\n",
       "      <th>0</th>\n",
       "      <td>Amsterdam</td>\n",
       "      <td>66733</td>\n",
       "      <td>NL</td>\n",
       "      <td>14</td>\n",
       "    </tr>\n",
       "    <tr>\n",
       "      <th>1</th>\n",
       "      <td>Andacollo</td>\n",
       "      <td>1754</td>\n",
       "      <td>CL</td>\n",
       "      <td>1</td>\n",
       "    </tr>\n",
       "    <tr>\n",
       "      <th>2</th>\n",
       "      <td>Antofagasta</td>\n",
       "      <td>3230</td>\n",
       "      <td>CL</td>\n",
       "      <td>1</td>\n",
       "    </tr>\n",
       "    <tr>\n",
       "      <th>3</th>\n",
       "      <td>Arica</td>\n",
       "      <td>1583</td>\n",
       "      <td>CL</td>\n",
       "      <td>1</td>\n",
       "    </tr>\n",
       "    <tr>\n",
       "      <th>4</th>\n",
       "      <td>Ayutthaya</td>\n",
       "      <td>3724</td>\n",
       "      <td>TH</td>\n",
       "      <td>1</td>\n",
       "    </tr>\n",
       "  </tbody>\n",
       "</table>\n",
       "</div>"
      ],
      "text/plain": [
       "          city  count country  locations\n",
       "0    Amsterdam  66733      NL         14\n",
       "1    Andacollo   1754      CL          1\n",
       "2  Antofagasta   3230      CL          1\n",
       "3        Arica   1583      CL          1\n",
       "4    Ayutthaya   3724      TH          1"
      ]
     },
     "execution_count": 7,
     "metadata": {},
     "output_type": "execute_result"
    }
   ],
   "source": [
    "# Convert to a DataFrame\n",
    "df = pd.DataFrame.from_dict(resp['results'])\n",
    "\n",
    "# List the top 5 rows in our dataframe\n",
    "df.head()"
   ]
  },
  {
   "cell_type": "markdown",
   "metadata": {},
   "source": [
    "# Methods\n",
    "\n",
    "## Cities\n",
    "\n",
    "The `cities` method gives you a list of all cities in the platform.\n",
    "\n",
    "The only kwarg available is `country` which is the country code of interest."
   ]
  },
  {
   "cell_type": "code",
   "execution_count": 8,
   "metadata": {
    "collapsed": true
   },
   "outputs": [],
   "source": [
    "status, resp = api.cities()"
   ]
  },
  {
   "cell_type": "markdown",
   "metadata": {},
   "source": [
    "### Meta Information\n",
    "\n",
    "The meta information here contains:\n",
    "\n",
    "  * license\n",
    "  * name\n",
    "  * website"
   ]
  },
  {
   "cell_type": "code",
   "execution_count": 9,
   "metadata": {
    "collapsed": false
   },
   "outputs": [
    {
     "name": "stdout",
     "output_type": "stream",
     "text": [
      "{'name': 'openaq-api', 'license': 'CC BY 4.0', 'website': 'https://docs.openaq.org/'}\n"
     ]
    }
   ],
   "source": [
    "print (resp['meta'])"
   ]
  },
  {
   "cell_type": "markdown",
   "metadata": {},
   "source": [
    "### Results\n",
    "\n",
    "Each result contains the following:\n",
    "\n",
    "  * city\n",
    "  * count\n",
    "  * country\n",
    "  * locations"
   ]
  },
  {
   "cell_type": "code",
   "execution_count": 10,
   "metadata": {
    "collapsed": false
   },
   "outputs": [
    {
     "name": "stdout",
     "output_type": "stream",
     "text": [
      "[{'city': 'Amsterdam', 'country': 'NL', 'count': 66733, 'locations': 14}]\n"
     ]
    }
   ],
   "source": [
    "print (resp['results'][:1])"
   ]
  },
  {
   "cell_type": "markdown",
   "metadata": {},
   "source": [
    "We can also access useful information from the DataFrame we created:"
   ]
  },
  {
   "cell_type": "code",
   "execution_count": 11,
   "metadata": {
    "collapsed": false
   },
   "outputs": [
    {
     "name": "stdout",
     "output_type": "stream",
     "text": [
      "<class 'pandas.core.frame.DataFrame'>\n",
      "Int64Index: 179 entries, 0 to 178\n",
      "Data columns (total 4 columns):\n",
      "city         179 non-null object\n",
      "count        179 non-null int64\n",
      "country      179 non-null object\n",
      "locations    179 non-null int64\n",
      "dtypes: int64(2), object(2)\n",
      "memory usage: 7.0+ KB\n"
     ]
    }
   ],
   "source": [
    "# Print the DataFrame info to the console\n",
    "df.info()"
   ]
  },
  {
   "cell_type": "markdown",
   "metadata": {},
   "source": [
    "From the above, we can use the pandas DataFrame info method to describe everything our DataFrame contains."
   ]
  },
  {
   "cell_type": "markdown",
   "metadata": {},
   "source": [
    "## countries\n",
    "\n",
    "The countries method gives you a list of all countries currently in the platform.\n",
    "\n",
    "There are no supported kwargs for this method at this time."
   ]
  },
  {
   "cell_type": "code",
   "execution_count": 12,
   "metadata": {
    "collapsed": true
   },
   "outputs": [],
   "source": [
    "status, resp = api.countries()"
   ]
  },
  {
   "cell_type": "markdown",
   "metadata": {},
   "source": [
    "**Let's dump the results into a DataFrame**"
   ]
  },
  {
   "cell_type": "code",
   "execution_count": 13,
   "metadata": {
    "collapsed": false
   },
   "outputs": [
    {
     "name": "stdout",
     "output_type": "stream",
     "text": [
      "  code   count            name\n",
      "0   AU  168541       Australia\n",
      "1   BR  270092          Brazil\n",
      "2   CL  419165           Chile\n",
      "3   CN   10734           China\n",
      "4   GB   87569  United Kingdom\n"
     ]
    }
   ],
   "source": [
    "# Convert to a DataFrame\n",
    "df = pd.DataFrame.from_dict(resp['results'])\n",
    "\n",
    "# List the top 5 rows in our dataframe\n",
    "print (df.head())"
   ]
  },
  {
   "cell_type": "markdown",
   "metadata": {},
   "source": [
    "## latest\n",
    "\n",
    "The latest method provides the latest information for each available location in the platform\n",
    "\n",
    "kawargs include:\n",
    "\n",
    "  * city\n",
    "  * country\n",
    "  * location\n",
    "  * parameter\n",
    "  * has_geo\n",
    "  * value_from\n",
    "  * value_to\n",
    "  \n",
    "With all of these parameters to play with, we can have so much fun! For example, if we want to grab the latest readings for all stations in India that have values over 200 ug/m3:\n",
    "\n",
    "However, the resp is a little bit difficult to deal with (if you want to throw it into a DataFrame), so a brief embedded for loop can take care of it for us."
   ]
  },
  {
   "cell_type": "code",
   "execution_count": 14,
   "metadata": {
    "collapsed": false
   },
   "outputs": [
    {
     "data": {
      "text/html": [
       "<div>\n",
       "<table border=\"1\" class=\"dataframe\">\n",
       "  <thead>\n",
       "    <tr style=\"text-align: right;\">\n",
       "      <th></th>\n",
       "      <th>city</th>\n",
       "      <th>country</th>\n",
       "      <th>last_updated</th>\n",
       "      <th>location</th>\n",
       "      <th>parameter</th>\n",
       "      <th>unit</th>\n",
       "      <th>value</th>\n",
       "    </tr>\n",
       "  </thead>\n",
       "  <tbody>\n",
       "    <tr>\n",
       "      <th>0</th>\n",
       "      <td>Delhi</td>\n",
       "      <td>IN</td>\n",
       "      <td>2015-11-23 10:25:00</td>\n",
       "      <td>RK Puram</td>\n",
       "      <td>o3</td>\n",
       "      <td>µg/m³</td>\n",
       "      <td>217.3</td>\n",
       "    </tr>\n",
       "    <tr>\n",
       "      <th>1</th>\n",
       "      <td>Delhi</td>\n",
       "      <td>IN</td>\n",
       "      <td>2015-12-21 06:40:00</td>\n",
       "      <td>RK Puram</td>\n",
       "      <td>pm25</td>\n",
       "      <td>µg/m³</td>\n",
       "      <td>234.0</td>\n",
       "    </tr>\n",
       "    <tr>\n",
       "      <th>2</th>\n",
       "      <td>Delhi</td>\n",
       "      <td>IN</td>\n",
       "      <td>2015-12-20 05:25:00</td>\n",
       "      <td>RK Puram</td>\n",
       "      <td>no2</td>\n",
       "      <td>µg/m³</td>\n",
       "      <td>217.7</td>\n",
       "    </tr>\n",
       "    <tr>\n",
       "      <th>3</th>\n",
       "      <td>Delhi</td>\n",
       "      <td>IN</td>\n",
       "      <td>2015-12-21 12:25:00</td>\n",
       "      <td>RK Puram</td>\n",
       "      <td>co</td>\n",
       "      <td>µg/m³</td>\n",
       "      <td>6700.0</td>\n",
       "    </tr>\n",
       "    <tr>\n",
       "      <th>4</th>\n",
       "      <td>Delhi</td>\n",
       "      <td>IN</td>\n",
       "      <td>2015-12-21 12:20:00</td>\n",
       "      <td>RK Puram</td>\n",
       "      <td>pm10</td>\n",
       "      <td>µg/m³</td>\n",
       "      <td>542.0</td>\n",
       "    </tr>\n",
       "  </tbody>\n",
       "</table>\n",
       "</div>"
      ],
      "text/plain": [
       "    city country        last_updated  location parameter   unit   value\n",
       "0  Delhi      IN 2015-11-23 10:25:00  RK Puram        o3  µg/m³   217.3\n",
       "1  Delhi      IN 2015-12-21 06:40:00  RK Puram      pm25  µg/m³   234.0\n",
       "2  Delhi      IN 2015-12-20 05:25:00  RK Puram       no2  µg/m³   217.7\n",
       "3  Delhi      IN 2015-12-21 12:25:00  RK Puram        co  µg/m³  6700.0\n",
       "4  Delhi      IN 2015-12-21 12:20:00  RK Puram      pm10  µg/m³   542.0"
      ]
     },
     "execution_count": 14,
     "metadata": {},
     "output_type": "execute_result"
    }
   ],
   "source": [
    "status, resp = api.latest(country = 'IN', value_from = 200)\n",
    "\n",
    "\n",
    "res_array = []\n",
    "for each in resp['results']:\n",
    "    for measurement in each['measurements']:\n",
    "        res_array.append({\n",
    "                'city': each['city'],\n",
    "                'country': each['country'],\n",
    "                'location': each['location'],\n",
    "                'last_updated': pd.to_datetime(measurement['lastUpdated']),\n",
    "                'parameter': measurement['parameter'],\n",
    "                'unit': measurement['unit'],\n",
    "                'value': measurement['value']\n",
    "            })\n",
    "    \n",
    "df = pd.DataFrame.from_dict(res_array)\n",
    "\n",
    "df.head()"
   ]
  },
  {
   "cell_type": "markdown",
   "metadata": {},
   "source": [
    "**We can then easily query to find just pm25 or any other parameter**"
   ]
  },
  {
   "cell_type": "code",
   "execution_count": 15,
   "metadata": {
    "collapsed": false
   },
   "outputs": [
    {
     "data": {
      "text/html": [
       "<div>\n",
       "<table border=\"1\" class=\"dataframe\">\n",
       "  <thead>\n",
       "    <tr style=\"text-align: right;\">\n",
       "      <th></th>\n",
       "      <th>city</th>\n",
       "      <th>country</th>\n",
       "      <th>last_updated</th>\n",
       "      <th>location</th>\n",
       "      <th>parameter</th>\n",
       "      <th>unit</th>\n",
       "      <th>value</th>\n",
       "    </tr>\n",
       "  </thead>\n",
       "  <tbody>\n",
       "    <tr>\n",
       "      <th>1</th>\n",
       "      <td>Delhi</td>\n",
       "      <td>IN</td>\n",
       "      <td>2015-12-21 06:40:00</td>\n",
       "      <td>RK Puram</td>\n",
       "      <td>pm25</td>\n",
       "      <td>µg/m³</td>\n",
       "      <td>234</td>\n",
       "    </tr>\n",
       "    <tr>\n",
       "      <th>10</th>\n",
       "      <td>Delhi</td>\n",
       "      <td>IN</td>\n",
       "      <td>2015-12-21 12:40:00</td>\n",
       "      <td>Anand Vihar</td>\n",
       "      <td>pm25</td>\n",
       "      <td>µg/m³</td>\n",
       "      <td>274</td>\n",
       "    </tr>\n",
       "    <tr>\n",
       "      <th>12</th>\n",
       "      <td>Delhi</td>\n",
       "      <td>IN</td>\n",
       "      <td>2015-12-21 06:05:00</td>\n",
       "      <td>Punjabi Bagh</td>\n",
       "      <td>pm25</td>\n",
       "      <td>µg/m³</td>\n",
       "      <td>378</td>\n",
       "    </tr>\n",
       "    <tr>\n",
       "      <th>16</th>\n",
       "      <td>Delhi</td>\n",
       "      <td>IN</td>\n",
       "      <td>2015-12-19 06:20:00</td>\n",
       "      <td>Mandir Marg</td>\n",
       "      <td>pm25</td>\n",
       "      <td>µg/m³</td>\n",
       "      <td>262</td>\n",
       "    </tr>\n",
       "    <tr>\n",
       "      <th>21</th>\n",
       "      <td>Delhi</td>\n",
       "      <td>IN</td>\n",
       "      <td>2015-12-21 16:30:00</td>\n",
       "      <td>US Diplomatic Post: New Delhi</td>\n",
       "      <td>pm25</td>\n",
       "      <td>µg/m³</td>\n",
       "      <td>392</td>\n",
       "    </tr>\n",
       "    <tr>\n",
       "      <th>22</th>\n",
       "      <td>Mumbai</td>\n",
       "      <td>IN</td>\n",
       "      <td>2015-12-20 05:30:00</td>\n",
       "      <td>US Diplomatic Post: Mumbai</td>\n",
       "      <td>pm25</td>\n",
       "      <td>µg/m³</td>\n",
       "      <td>203</td>\n",
       "    </tr>\n",
       "    <tr>\n",
       "      <th>23</th>\n",
       "      <td>Kolkata</td>\n",
       "      <td>IN</td>\n",
       "      <td>2015-12-21 16:30:00</td>\n",
       "      <td>US Diplomatic Post: Kolkata</td>\n",
       "      <td>pm25</td>\n",
       "      <td>µg/m³</td>\n",
       "      <td>205</td>\n",
       "    </tr>\n",
       "  </tbody>\n",
       "</table>\n",
       "</div>"
      ],
      "text/plain": [
       "       city country        last_updated                       location  \\\n",
       "1     Delhi      IN 2015-12-21 06:40:00                       RK Puram   \n",
       "10    Delhi      IN 2015-12-21 12:40:00                    Anand Vihar   \n",
       "12    Delhi      IN 2015-12-21 06:05:00                   Punjabi Bagh   \n",
       "16    Delhi      IN 2015-12-19 06:20:00                    Mandir Marg   \n",
       "21    Delhi      IN 2015-12-21 16:30:00  US Diplomatic Post: New Delhi   \n",
       "22   Mumbai      IN 2015-12-20 05:30:00     US Diplomatic Post: Mumbai   \n",
       "23  Kolkata      IN 2015-12-21 16:30:00    US Diplomatic Post: Kolkata   \n",
       "\n",
       "   parameter   unit  value  \n",
       "1       pm25  µg/m³    234  \n",
       "10      pm25  µg/m³    274  \n",
       "12      pm25  µg/m³    378  \n",
       "16      pm25  µg/m³    262  \n",
       "21      pm25  µg/m³    392  \n",
       "22      pm25  µg/m³    203  \n",
       "23      pm25  µg/m³    205  "
      ]
     },
     "execution_count": 15,
     "metadata": {},
     "output_type": "execute_result"
    }
   ],
   "source": [
    "df.query(\"parameter == 'pm25'\")"
   ]
  },
  {
   "cell_type": "markdown",
   "metadata": {},
   "source": [
    "## locations\n",
    "\n",
    "The locations method call provides metadata for distinct measurement locations.\n",
    "\n",
    "kwargs include:\n",
    "\n",
    "  * city\n",
    "  * country\n",
    "  * location\n",
    "  * parameter\n",
    "  * has_geo\n",
    "  * value_from\n",
    "  * value_to\n",
    "  * date_from\n",
    "  * date_to\n",
    "  \n",
    "Again sticking with our India theme, let's grab all stations in India:\n",
    "\n",
    "A DataFrame isn't terribly useful here, so here we can just print out an example of what information it contains."
   ]
  },
  {
   "cell_type": "code",
   "execution_count": 16,
   "metadata": {
    "collapsed": false
   },
   "outputs": [
    {
     "data": {
      "text/plain": [
       "{'city': 'Chennai',\n",
       " 'coordinates': {'latitude': 13.052371, 'longitude': 80.251932},\n",
       " 'count': 236,\n",
       " 'country': 'IN',\n",
       " 'firstUpdated': '2015-12-11T21:30:00.000Z',\n",
       " 'lastUpdated': '2015-12-21T16:30:00.000Z',\n",
       " 'location': 'US Diplomatic Post: Chennai',\n",
       " 'parameters': ['pm25'],\n",
       " 'sourceName': 'StateAir_Chennai'}"
      ]
     },
     "execution_count": 16,
     "metadata": {},
     "output_type": "execute_result"
    }
   ],
   "source": [
    "status, resp = api.locations(country = 'IN')\n",
    "\n",
    "resp['results'][0]"
   ]
  },
  {
   "cell_type": "markdown",
   "metadata": {},
   "source": [
    "## measurements\n",
    "\n",
    "The measurements method call is the greatest one of all. It returns the data we all love and care about.\n",
    "\n",
    "kwargs inlcude:\n",
    "\n",
    "  * city\n",
    "  * country\n",
    "  * location\n",
    "  * parameter\n",
    "  * has_geo\n",
    "  * value_from\n",
    "  * value_to\n",
    "  * date_from\n",
    "  * date_to\n",
    "  * sort\n",
    "  * order_by\n",
    "  * include_fields\n",
    "  * limit\n",
    "  * page\n",
    "  * skip\n",
    "  \n",
    "Let's do some cool stuff. Let's grab all data from the Punjabi Bagh station in Delhi, India from Oct 1 forward (roughly the end of monsoon season)..throw it into a DataFrame and then plot it, along with it's 24-running average. Let's then export the data to a csv for fun?"
   ]
  },
  {
   "cell_type": "code",
   "execution_count": 17,
   "metadata": {
    "collapsed": false
   },
   "outputs": [
    {
     "name": "stdout",
     "output_type": "stream",
     "text": [
      "<class 'pandas.core.frame.DataFrame'>\n",
      "DatetimeIndex: 100 entries, 2015-12-21 13:20:00 to 2015-12-19 23:35:00\n",
      "Data columns (total 10 columns):\n",
      "_id          100 non-null object\n",
      "city         100 non-null object\n",
      "country      100 non-null object\n",
      "date         100 non-null object\n",
      "location     100 non-null object\n",
      "parameter    100 non-null object\n",
      "unit         100 non-null object\n",
      "value        100 non-null int64\n",
      "utctime      100 non-null datetime64[ns]\n",
      "localtime    100 non-null datetime64[ns]\n",
      "dtypes: datetime64[ns](2), int64(1), object(7)\n",
      "memory usage: 8.6+ KB\n"
     ]
    }
   ],
   "source": [
    "status, resp = api.measurements(location = 'Punjabi Bagh', date_from = '2015-10-01', parameter = 'pm25')\n",
    "\n",
    "# Build into a nice usable DataFrame\n",
    "df = pd.DataFrame.from_dict(resp['results'])\n",
    "\n",
    "df['utctime'] = [pd.to_datetime(each['date']['utc']) for each in resp['results']]\n",
    "df['localtime'] = [pd.to_datetime(each['date']['local']) for each in resp['results']]\n",
    "\n",
    "# Make the index a datetime index\n",
    "df.index = df['localtime']\n",
    "\n",
    "df.info()"
   ]
  },
  {
   "cell_type": "markdown",
   "metadata": {},
   "source": [
    "#### Make a nice plot using seaborn"
   ]
  },
  {
   "cell_type": "code",
   "execution_count": 18,
   "metadata": {
    "collapsed": false,
    "scrolled": false
   },
   "outputs": [
    {
     "data": {
      "image/png": "[encoded data removed]",
      "text/plain": [
       "<matplotlib.figure.Figure at 0x114aef5f8>"
      ]
     },
     "metadata": {},
     "output_type": "display_data"
    }
   ],
   "source": [
    "with sns.axes_style('white'):\n",
    "    fig, ax = plt.subplots(1, figsize = (14, 8))\n",
    "    \n",
    "    df.plot(y = ['value'], ax = ax, label = 'PM2.5')\n",
    "    \n",
    "    ax.set_title(\"Punjabi Bagh Example\")\n",
    "    ax.set_ylabel(\"PM2.5\")\n",
    "    ax.set_xlabel(\"Local Time (IST)\")\n",
    "    \n",
    "    sns.despine()\n",
    "    \n",
    "plt.show()"
   ]
  },
  {
   "cell_type": "code",
   "execution_count": null,
   "metadata": {
    "collapsed": true
   },
   "outputs": [],
   "source": []
  }
 ],
 "metadata": {
  "kernelspec": {
   "display_name": "Python 3",
   "language": "python",
   "name": "python3"
  },
  "language_info": {
   "codemirror_mode": {
    "name": "ipython",
    "version": 3
   },
   "file_extension": ".py",
   "mimetype": "text/x-python",
   "name": "python",
   "nbconvert_exporter": "python",
   "pygments_lexer": "ipython3",
   "version": "3.5.1"
  }
 },
 "nbformat": 4,
 "nbformat_minor": 0
}
